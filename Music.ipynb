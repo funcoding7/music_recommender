{
 "cells": [
  {
   "cell_type": "code",
   "execution_count": 20,
   "id": "522578fd-1b52-4171-a434-66e57d3f7aab",
   "metadata": {},
   "outputs": [],
   "source": [
    "import pandas as pd"
   ]
  },
  {
   "cell_type": "code",
   "execution_count": 21,
   "id": "458b2909-8b97-474d-9eac-d2d548591070",
   "metadata": {},
   "outputs": [],
   "source": [
    "df = pd.read_csv(\"spotify_millsongdata.csv\")"
   ]
  },
  {
   "cell_type": "code",
   "execution_count": 22,
   "id": "dfefe1b3-e717-4440-8359-187fe4f4acd7",
   "metadata": {},
   "outputs": [
    {
     "data": {
      "text/html": [
       "<div>\n",
       "<style scoped>\n",
       "    .dataframe tbody tr th:only-of-type {\n",
       "        vertical-align: middle;\n",
       "    }\n",
       "\n",
       "    .dataframe tbody tr th {\n",
       "        vertical-align: top;\n",
       "    }\n",
       "\n",
       "    .dataframe thead th {\n",
       "        text-align: right;\n",
       "    }\n",
       "</style>\n",
       "<table border=\"1\" class=\"dataframe\">\n",
       "  <thead>\n",
       "    <tr style=\"text-align: right;\">\n",
       "      <th></th>\n",
       "      <th>artist</th>\n",
       "      <th>song</th>\n",
       "      <th>link</th>\n",
       "      <th>text</th>\n",
       "    </tr>\n",
       "  </thead>\n",
       "  <tbody>\n",
       "    <tr>\n",
       "      <th>0</th>\n",
       "      <td>ABBA</td>\n",
       "      <td>Ahe's My Kind Of Girl</td>\n",
       "      <td>/a/abba/ahes+my+kind+of+girl_20598417.html</td>\n",
       "      <td>Look at her face, it's a wonderful face  \\r\\nA...</td>\n",
       "    </tr>\n",
       "    <tr>\n",
       "      <th>1</th>\n",
       "      <td>ABBA</td>\n",
       "      <td>Andante, Andante</td>\n",
       "      <td>/a/abba/andante+andante_20002708.html</td>\n",
       "      <td>Take it easy with me, please  \\r\\nTouch me gen...</td>\n",
       "    </tr>\n",
       "    <tr>\n",
       "      <th>2</th>\n",
       "      <td>ABBA</td>\n",
       "      <td>As Good As New</td>\n",
       "      <td>/a/abba/as+good+as+new_20003033.html</td>\n",
       "      <td>I'll never know why I had to go  \\r\\nWhy I had...</td>\n",
       "    </tr>\n",
       "    <tr>\n",
       "      <th>3</th>\n",
       "      <td>ABBA</td>\n",
       "      <td>Bang</td>\n",
       "      <td>/a/abba/bang_20598415.html</td>\n",
       "      <td>Making somebody happy is a question of give an...</td>\n",
       "    </tr>\n",
       "    <tr>\n",
       "      <th>4</th>\n",
       "      <td>ABBA</td>\n",
       "      <td>Bang-A-Boomerang</td>\n",
       "      <td>/a/abba/bang+a+boomerang_20002668.html</td>\n",
       "      <td>Making somebody happy is a question of give an...</td>\n",
       "    </tr>\n",
       "  </tbody>\n",
       "</table>\n",
       "</div>"
      ],
      "text/plain": [
       "  artist                   song                                        link  \\\n",
       "0   ABBA  Ahe's My Kind Of Girl  /a/abba/ahes+my+kind+of+girl_20598417.html   \n",
       "1   ABBA       Andante, Andante       /a/abba/andante+andante_20002708.html   \n",
       "2   ABBA         As Good As New        /a/abba/as+good+as+new_20003033.html   \n",
       "3   ABBA                   Bang                  /a/abba/bang_20598415.html   \n",
       "4   ABBA       Bang-A-Boomerang      /a/abba/bang+a+boomerang_20002668.html   \n",
       "\n",
       "                                                text  \n",
       "0  Look at her face, it's a wonderful face  \\r\\nA...  \n",
       "1  Take it easy with me, please  \\r\\nTouch me gen...  \n",
       "2  I'll never know why I had to go  \\r\\nWhy I had...  \n",
       "3  Making somebody happy is a question of give an...  \n",
       "4  Making somebody happy is a question of give an...  "
      ]
     },
     "execution_count": 22,
     "metadata": {},
     "output_type": "execute_result"
    }
   ],
   "source": [
    "df.head(5)"
   ]
  },
  {
   "cell_type": "code",
   "execution_count": 23,
   "id": "8a328ae2-575d-4f38-9638-92e27413e6ee",
   "metadata": {},
   "outputs": [
    {
     "data": {
      "text/plain": [
       "(57650, 4)"
      ]
     },
     "execution_count": 23,
     "metadata": {},
     "output_type": "execute_result"
    }
   ],
   "source": [
    "df.shape"
   ]
  },
  {
   "cell_type": "code",
   "execution_count": 24,
   "id": "dd0d2ab6-b421-4af4-b0cd-6533c131191b",
   "metadata": {},
   "outputs": [],
   "source": [
    "df =df.sample(5000).drop('link', axis=1).reset_index(drop=True)"
   ]
  },
  {
   "cell_type": "code",
   "execution_count": 25,
   "id": "b840237d-d80e-4584-9cd4-60e9f889b3c4",
   "metadata": {},
   "outputs": [
    {
     "data": {
      "text/html": [
       "<div>\n",
       "<style scoped>\n",
       "    .dataframe tbody tr th:only-of-type {\n",
       "        vertical-align: middle;\n",
       "    }\n",
       "\n",
       "    .dataframe tbody tr th {\n",
       "        vertical-align: top;\n",
       "    }\n",
       "\n",
       "    .dataframe thead th {\n",
       "        text-align: right;\n",
       "    }\n",
       "</style>\n",
       "<table border=\"1\" class=\"dataframe\">\n",
       "  <thead>\n",
       "    <tr style=\"text-align: right;\">\n",
       "      <th></th>\n",
       "      <th>artist</th>\n",
       "      <th>song</th>\n",
       "      <th>text</th>\n",
       "    </tr>\n",
       "  </thead>\n",
       "  <tbody>\n",
       "    <tr>\n",
       "      <th>0</th>\n",
       "      <td>Britney Spears</td>\n",
       "      <td>Love To Hate You</td>\n",
       "      <td>Love to hate you  \\r\\n  \\r\\nI'm doing fine  \\r...</td>\n",
       "    </tr>\n",
       "    <tr>\n",
       "      <th>1</th>\n",
       "      <td>Ian Hunter</td>\n",
       "      <td>Ships</td>\n",
       "      <td>(ian hunter)  \\r\\n  \\r\\nWe walked to the sea, ...</td>\n",
       "    </tr>\n",
       "    <tr>\n",
       "      <th>2</th>\n",
       "      <td>Harry Connick, Jr.</td>\n",
       "      <td>Honestly Now</td>\n",
       "      <td>Honestly now...  \\r\\nEither you stand for some...</td>\n",
       "    </tr>\n",
       "    <tr>\n",
       "      <th>3</th>\n",
       "      <td>Yngwie Malmsteen</td>\n",
       "      <td>Fury</td>\n",
       "      <td>I now will tell you all a story  \\r\\nThat no o...</td>\n",
       "    </tr>\n",
       "    <tr>\n",
       "      <th>4</th>\n",
       "      <td>Cher</td>\n",
       "      <td>Believe (Club 69 Phunk Dub)</td>\n",
       "      <td>No matter how hard I try  \\r\\nYou keep pushing...</td>\n",
       "    </tr>\n",
       "    <tr>\n",
       "      <th>5</th>\n",
       "      <td>Madonna</td>\n",
       "      <td>Laugh To Keep From Crying</td>\n",
       "      <td>I can't lock my door  \\r\\nOh, I don't have no ...</td>\n",
       "    </tr>\n",
       "    <tr>\n",
       "      <th>6</th>\n",
       "      <td>Carpenters</td>\n",
       "      <td>Ordinary Fool</td>\n",
       "      <td>Only a fool like fools before me  \\r\\nI always...</td>\n",
       "    </tr>\n",
       "    <tr>\n",
       "      <th>7</th>\n",
       "      <td>Linkin Park</td>\n",
       "      <td>Wisdom Justice And Love</td>\n",
       "      <td>I come to this magnificent house of worship to...</td>\n",
       "    </tr>\n",
       "    <tr>\n",
       "      <th>8</th>\n",
       "      <td>Hank Snow</td>\n",
       "      <td>Hello Love</td>\n",
       "      <td>Well look who's comin' through the door  \\r\\nI...</td>\n",
       "    </tr>\n",
       "    <tr>\n",
       "      <th>9</th>\n",
       "      <td>Barbra Streisand</td>\n",
       "      <td>Hello, Dolly! Finale</td>\n",
       "      <td>[Horace:]  \\r\\nHello, Dolly!  \\r\\nWell, hello,...</td>\n",
       "    </tr>\n",
       "  </tbody>\n",
       "</table>\n",
       "</div>"
      ],
      "text/plain": [
       "               artist                         song  \\\n",
       "0      Britney Spears             Love To Hate You   \n",
       "1          Ian Hunter                        Ships   \n",
       "2  Harry Connick, Jr.                 Honestly Now   \n",
       "3    Yngwie Malmsteen                         Fury   \n",
       "4                Cher  Believe (Club 69 Phunk Dub)   \n",
       "5             Madonna    Laugh To Keep From Crying   \n",
       "6          Carpenters                Ordinary Fool   \n",
       "7         Linkin Park      Wisdom Justice And Love   \n",
       "8           Hank Snow                   Hello Love   \n",
       "9    Barbra Streisand         Hello, Dolly! Finale   \n",
       "\n",
       "                                                text  \n",
       "0  Love to hate you  \\r\\n  \\r\\nI'm doing fine  \\r...  \n",
       "1  (ian hunter)  \\r\\n  \\r\\nWe walked to the sea, ...  \n",
       "2  Honestly now...  \\r\\nEither you stand for some...  \n",
       "3  I now will tell you all a story  \\r\\nThat no o...  \n",
       "4  No matter how hard I try  \\r\\nYou keep pushing...  \n",
       "5  I can't lock my door  \\r\\nOh, I don't have no ...  \n",
       "6  Only a fool like fools before me  \\r\\nI always...  \n",
       "7  I come to this magnificent house of worship to...  \n",
       "8  Well look who's comin' through the door  \\r\\nI...  \n",
       "9  [Horace:]  \\r\\nHello, Dolly!  \\r\\nWell, hello,...  "
      ]
     },
     "execution_count": 25,
     "metadata": {},
     "output_type": "execute_result"
    }
   ],
   "source": [
    "df.head(10)\n"
   ]
  },
  {
   "cell_type": "code",
   "execution_count": 26,
   "id": "30dfd2cc-ebda-4344-b184-bff7bdd1ad1c",
   "metadata": {},
   "outputs": [
    {
     "data": {
      "text/plain": [
       "\"Love to hate you  \\r\\n  \\r\\nI'm doing fine  \\r\\nI'm doing fine  \\r\\n  \\r\\nFor seven months and fifteen days  \\r\\nI've been telling you lies in different ways  \\r\\nI know things will change  \\r\\nBut I don't know when  \\r\\nYou keep talking about us  \\r\\nLike we still were friends  \\r\\n  \\r\\nI just hate the way you talk to me  \\r\\nI just love to say what's bothering me  \\r\\n  \\r\\nI love to hate you  \\r\\nI really love to hate you  \\r\\nAnd nothing you do  \\r\\nWill ever change my mind  \\r\\nI'm doing fine  \\r\\nWithout you  \\r\\n  \\r\\nIt wasn't meant to be like this  \\r\\nAll you gave her was one little innocent kiss  \\r\\nI didn't believe  \\r\\nShe would turn to be  \\r\\nThe love of your life  \\r\\nJust like me  \\r\\n  \\r\\nI just hate the way you talk to me  \\r\\nI just love to say what you mean to me  \\r\\n  \\r\\nI love to hate you  \\r\\nI really love to hate you  \\r\\nAnd nothing you do  \\r\\nWill ever change my mind  \\r\\nI'm doing fine  \\r\\nWithout you  \\r\\n  \\r\\nI'm doing fine  \\r\\n  \\r\\nI love to hate you  \\r\\nI really love to hate you  \\r\\nAnd nothing you do  \\r\\nWill ever change my mind  \\r\\nI'm doing fine  \\r\\nI love to hate you  \\r\\nI really love to hate you  \\r\\nAnd nothing you do  \\r\\nWill ever change my mind  \\r\\nI'm doing fine  \\r\\nWithout you\\r\\n\\r\\n\""
      ]
     },
     "execution_count": 26,
     "metadata": {},
     "output_type": "execute_result"
    }
   ],
   "source": [
    "df['text'][0]\n"
   ]
  },
  {
   "cell_type": "code",
   "execution_count": 27,
   "id": "e3640d50-2068-4126-8a80-402e34820e85",
   "metadata": {},
   "outputs": [
    {
     "data": {
      "text/plain": [
       "(5000, 3)"
      ]
     },
     "execution_count": 27,
     "metadata": {},
     "output_type": "execute_result"
    }
   ],
   "source": [
    "df.shape"
   ]
  },
  {
   "cell_type": "code",
   "execution_count": 28,
   "id": "97967dc9-e00c-4d97-8867-bd377a568f45",
   "metadata": {},
   "outputs": [],
   "source": [
    "df['text'] = df['text'].str.lower().replace(r'^\\w\\s', ' ').replace(r'\\n', ' ', regex = True)\n"
   ]
  },
  {
   "cell_type": "code",
   "execution_count": 29,
   "id": "41a7faea-5399-4a82-8251-38899a52a225",
   "metadata": {},
   "outputs": [],
   "source": [
    "import nltk\n",
    "from nltk.stem.porter import PorterStemmer\n",
    "stemmer = PorterStemmer()\n",
    "\n",
    "def tokenization(txt):\n",
    "    tokens = nltk.word_tokenize(txt)\n",
    "    stemming = [stemmer.stem(w) for w in tokens]\n",
    "    return \" \".join(stemming)"
   ]
  },
  {
   "cell_type": "code",
   "execution_count": 30,
   "id": "89c2c0f3-6989-41bc-809d-659158e25d7a",
   "metadata": {},
   "outputs": [],
   "source": [
    "df['text'] = df['text'].apply(lambda x: tokenization(x))"
   ]
  },
  {
   "cell_type": "code",
   "execution_count": 31,
   "id": "820543e1-3df2-45ba-a39e-15fdf700465d",
   "metadata": {},
   "outputs": [],
   "source": [
    "from sklearn.feature_extraction.text import TfidfVectorizer\n",
    "from sklearn.metrics.pairwise import cosine_similarity"
   ]
  },
  {
   "cell_type": "code",
   "execution_count": 32,
   "id": "6cc63f79-1c64-4d31-8c1d-fa1e2bd9c38a",
   "metadata": {},
   "outputs": [],
   "source": [
    "tfidvector = TfidfVectorizer(analyzer='word',stop_words='english')\n",
    "matrix = tfidvector.fit_transform(df['text'])\n",
    "similarity = cosine_similarity(matrix)"
   ]
  },
  {
   "cell_type": "code",
   "execution_count": 60,
   "id": "27dd6322-8433-48aa-9530-5fba35622b22",
   "metadata": {},
   "outputs": [
    {
     "data": {
      "text/plain": [
       "array([1.        , 0.03898525, 0.03504442, ..., 0.19384366, 0.02661255,\n",
       "       0.02913636])"
      ]
     },
     "execution_count": 60,
     "metadata": {},
     "output_type": "execute_result"
    }
   ],
   "source": [
    "similarity[0]"
   ]
  },
  {
   "cell_type": "code",
   "execution_count": 64,
   "id": "081975e0-548e-4ab2-bf2b-138a7443f597",
   "metadata": {},
   "outputs": [
    {
     "data": {
      "text/html": [
       "<div>\n",
       "<style scoped>\n",
       "    .dataframe tbody tr th:only-of-type {\n",
       "        vertical-align: middle;\n",
       "    }\n",
       "\n",
       "    .dataframe tbody tr th {\n",
       "        vertical-align: top;\n",
       "    }\n",
       "\n",
       "    .dataframe thead th {\n",
       "        text-align: right;\n",
       "    }\n",
       "</style>\n",
       "<table border=\"1\" class=\"dataframe\">\n",
       "  <thead>\n",
       "    <tr style=\"text-align: right;\">\n",
       "      <th></th>\n",
       "      <th>artist</th>\n",
       "      <th>song</th>\n",
       "      <th>text</th>\n",
       "    </tr>\n",
       "  </thead>\n",
       "  <tbody>\n",
       "    <tr>\n",
       "      <th>0</th>\n",
       "      <td>Britney Spears</td>\n",
       "      <td>Love To Hate You</td>\n",
       "      <td>love to hate you i 'm do fine i 'm do fine for...</td>\n",
       "    </tr>\n",
       "  </tbody>\n",
       "</table>\n",
       "</div>"
      ],
      "text/plain": [
       "           artist              song  \\\n",
       "0  Britney Spears  Love To Hate You   \n",
       "\n",
       "                                                text  \n",
       "0  love to hate you i 'm do fine i 'm do fine for...  "
      ]
     },
     "execution_count": 64,
     "metadata": {},
     "output_type": "execute_result"
    }
   ],
   "source": [
    "df[df['song'] == 'Love To Hate You']"
   ]
  },
  {
   "cell_type": "code",
   "execution_count": 68,
   "id": "2dcb9b73-ef50-4f81-bb61-e4928c6d717c",
   "metadata": {},
   "outputs": [],
   "source": [
    "def recommendation(song_df):\n",
    "    idx = df[df['song'] == song_df].index[0]\n",
    "    distances = sorted(list(enumerate(similarity[idx])),reverse=True,key=lambda x:x[1])\n",
    "    songs = []\n",
    "    for m_id in distances[1:21]:\n",
    "        songs.append(df.iloc[m_id[0]].song)\n",
    "        \n",
    "    return songs,distances[1:21]"
   ]
  },
  {
   "cell_type": "code",
   "execution_count": 70,
   "id": "a96b433f-ddb8-412a-a72d-3d3afb09a0bf",
   "metadata": {},
   "outputs": [
    {
     "data": {
      "text/plain": [
       "(['Outside Of That I Love You',\n",
       "  'Love, Hate, Love',\n",
       "  \"Love's In Need Of Love Today\",\n",
       "  'I Hate You',\n",
       "  'Love Is War',\n",
       "  'Not In That Way',\n",
       "  'Who Do You Love',\n",
       "  'Doing Fine',\n",
       "  'Stay With Me Forever',\n",
       "  'The Pros And Cons Of Breathing',\n",
       "  'Now Mary',\n",
       "  'All You Need Is Love',\n",
       "  'Make Believe',\n",
       "  'All My Life',\n",
       "  \"How I Learned To Hate Rock 'n' Roll\",\n",
       "  'Just One Way To Say I Love You',\n",
       "  'Love Me Again',\n",
       "  'Looking For Love',\n",
       "  'Soul Creation By Cinder',\n",
       "  'Change'],\n",
       " [(670, 0.5806907534678949),\n",
       "  (3359, 0.5032470305681955),\n",
       "  (3698, 0.3823703552005879),\n",
       "  (2370, 0.3680895327910472),\n",
       "  (292, 0.330415491730018),\n",
       "  (257, 0.3276808380284808),\n",
       "  (3902, 0.3182029436574636),\n",
       "  (2921, 0.3160327623495501),\n",
       "  (398, 0.3100810076709125),\n",
       "  (4618, 0.3044154920548746),\n",
       "  (3206, 0.3011337361161691),\n",
       "  (4000, 0.2856944275418137),\n",
       "  (4510, 0.2789229147297112),\n",
       "  (2126, 0.2647501252423849),\n",
       "  (1953, 0.2640298303297865),\n",
       "  (3515, 0.25384559041309324),\n",
       "  (4965, 0.250098552715766),\n",
       "  (3932, 0.2497468215270301),\n",
       "  (1113, 0.24720642399777676),\n",
       "  (1361, 0.24601921766347395)])"
      ]
     },
     "execution_count": 70,
     "metadata": {},
     "output_type": "execute_result"
    }
   ],
   "source": [
    "recommendation('Love To Hate You')"
   ]
  },
  {
   "cell_type": "code",
   "execution_count": 67,
   "id": "9c415ce8-9091-44aa-99c3-97de5bb1a986",
   "metadata": {},
   "outputs": [],
   "source": [
    "import pickle\n",
    "pickle.dump(similarity,open('similarity.pkl','wb'))\n",
    "pickle.dump(df,open('df.pkl','wb'))"
   ]
  },
  {
   "cell_type": "code",
   "execution_count": null,
   "id": "0b27d428-0740-434d-b2f7-27e3bd807ae6",
   "metadata": {},
   "outputs": [],
   "source": []
  }
 ],
 "metadata": {
  "kernelspec": {
   "display_name": "Python 3 (ipykernel)",
   "language": "python",
   "name": "python3"
  },
  "language_info": {
   "codemirror_mode": {
    "name": "ipython",
    "version": 3
   },
   "file_extension": ".py",
   "mimetype": "text/x-python",
   "name": "python",
   "nbconvert_exporter": "python",
   "pygments_lexer": "ipython3",
   "version": "3.11.5"
  }
 },
 "nbformat": 4,
 "nbformat_minor": 5
}
